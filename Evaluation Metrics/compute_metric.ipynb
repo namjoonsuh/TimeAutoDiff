{
 "cells": [
  {
   "cell_type": "code",
   "execution_count": null,
   "id": "aa3ffef1",
   "metadata": {},
   "outputs": [],
   "source": [
    "import numpy as np\n",
    "import timeautoencoder as tae\n",
    "import timediffusion as tdf\n",
    "import DP as dp\n",
    "import pandas as pd\n",
    "import torch\n",
    "import os\n",
    "import time\n",
    "import process_edited as pce\n",
    "import correl as correl\n",
    "import Metrics as mt\n",
    "import matplotlib.pyplot as plt\n",
    "import random\n",
    "import predictive_metrics as pdm"
   ]
  },
  {
   "cell_type": "code",
   "execution_count": null,
   "id": "5196702a",
   "metadata": {},
   "outputs": [],
   "source": [
    "# Dataset list:  traffic, pollution, hurricane, AirQuality, fraud, nasdaq\n",
    "# Load the tensor\n",
    "_real_data = torch.load(f'Data/traffic_real.pt')\n",
    "_synth_data = torch.load(f'Data/traffic_synthetic.pt')"
   ]
  },
  {
   "cell_type": "code",
   "execution_count": null,
   "id": "7cb5b312",
   "metadata": {},
   "outputs": [],
   "source": [
    "#################### Evaluate Metrics #################### \n",
    "iterations = 2000\n",
    "result_disc = []; result_pred = []; result_tmp = []; result_corr = []\n",
    "\n",
    "for i in range(10):\n",
    "    random_integers = [random.randint(0, len(real_df)-1) for _ in range(2000)]\n",
    "    \n",
    "    a = mt.discriminative_score_metrics(_real_data, _synth_data, iterations)\n",
    "    b = pdm.predictive_score_metrics(_real_data, _synth_data, 5)\n",
    "    c = mt.temp_disc_score(_real_data, _synth_data, iterations)\n",
    "    d = correl.final_correlation(real_df.iloc[random_integers,:], synth_df.iloc[random_integers,:])\n",
    "    \n",
    "    result_disc.append(a)\n",
    "    result_pred.append(b)\n",
    "    result_tmp.append(c)\n",
    "    result_corr.append(d)"
   ]
  },
  {
   "cell_type": "code",
   "execution_count": null,
   "id": "574b7687",
   "metadata": {},
   "outputs": [],
   "source": [
    "print(np.mean(result_disc),np.std(result_disc))\n",
    "print(np.mean(result_pred),np.std(result_pred))\n",
    "print(np.mean(result_tmp),np.std(result_tmp))\n",
    "print(np.mean(result_corr),np.std(result_corr))"
   ]
  },
  {
   "cell_type": "code",
   "execution_count": null,
   "id": "e8017949",
   "metadata": {},
   "outputs": [],
   "source": []
  }
 ],
 "metadata": {
  "kernelspec": {
   "display_name": "Python 3 (ipykernel)",
   "language": "python",
   "name": "python3"
  },
  "language_info": {
   "codemirror_mode": {
    "name": "ipython",
    "version": 3
   },
   "file_extension": ".py",
   "mimetype": "text/x-python",
   "name": "python",
   "nbconvert_exporter": "python",
   "pygments_lexer": "ipython3",
   "version": "3.9.13"
  }
 },
 "nbformat": 4,
 "nbformat_minor": 5
}
